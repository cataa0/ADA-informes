{
  "nbformat": 4,
  "nbformat_minor": 0,
  "metadata": {
    "colab": {
      "provenance": [],
      "collapsed_sections": [],
      "authorship_tag": "ABX9TyPFXrygeqPFpf4h300uxKy8",
      "include_colab_link": true
    },
    "kernelspec": {
      "name": "python3",
      "display_name": "Python 3"
    },
    "language_info": {
      "name": "python"
    }
  },
  "cells": [
    {
      "cell_type": "markdown",
      "metadata": {
        "id": "view-in-github",
        "colab_type": "text"
      },
      "source": [
        "<a href=\"https://colab.research.google.com/github/cataa0/ADA-informes/blob/main/Select.ipynb\" target=\"_parent\"><img src=\"https://colab.research.google.com/assets/colab-badge.svg\" alt=\"Open In Colab\"/></a>"
      ]
    },
    {
      "cell_type": "markdown",
      "source": [
        "# 1.Descripcion del problema"
      ],
      "metadata": {
        "id": "EVonPkZmcEhE"
      }
    },
    {
      "cell_type": "markdown",
      "source": [
        "**Entrada:**Conjunto de *n* numeros diferentes **A** mas un indice *i*.\n",
        "\n",
        "**Salida:**Elemento *x* perteneciente a **A**, que es mayor a *i-1* elementos de **A**.\n",
        "\n",
        "El problema del algoritmo de seleccion se basa en un algoritmo el cual nos permita poder encontrar el k-esimo menor numero de un array (una muestra estadistica)."
      ],
      "metadata": {
        "id": "s-6DsgydcIsM"
      }
    },
    {
      "cell_type": "markdown",
      "source": [
        "# 2.Algoritmo Select"
      ],
      "metadata": {
        "id": "nmO0xOXed_dA"
      }
    },
    {
      "cell_type": "markdown",
      "source": [
        "## 2.1 Codigo Pivot Selection"
      ],
      "metadata": {
        "id": "DraLaPcAeQoS"
      }
    },
    {
      "cell_type": "code",
      "source": [],
      "metadata": {
        "id": "H8Tl5R3SiMfW"
      },
      "execution_count": null,
      "outputs": []
    },
    {
      "cell_type": "markdown",
      "source": [
        "## 2.2 Descripcion del algoritmo"
      ],
      "metadata": {
        "id": "0fGN5ZsweWDV"
      }
    },
    {
      "cell_type": "markdown",
      "source": [
        "### 2.2.1 Descripcion de la funcion Pivot Selection"
      ],
      "metadata": {
        "id": "UAZENJmHrvcu"
      }
    },
    {
      "cell_type": "markdown",
      "source": [
        "Recibimos un arreglo de *n* elementos el cual lo dividimos en 5 subarreglos, se debe encontrar la mediana de cada subarreglo aplicando el algoritmo de insertionSort.\n",
        "\n",
        "Se copian todas las medianas en otro subarreglo *y*.\n",
        "\n",
        "Luego se aplica nuevamente la funcion PivotSelection de manera recursiva a este subarreglo +y* para encontrar la mediana de las medianas.\n",
        "\n",
        "Esta mediana seria la cual usaremos como pivote, para luego aplicar el partition en la funcion de Select al arreglo principal."
      ],
      "metadata": {
        "id": "VijTVAvCr6od"
      }
    },
    {
      "cell_type": "markdown",
      "source": [
        "### 2.2.2 Descripcion del algoritmo Select"
      ],
      "metadata": {
        "id": "xWUMxC9VrmxE"
      }
    },
    {
      "cell_type": "markdown",
      "source": [
        "Tenemos un conjunto de *n* elementos al cual se le aplica la funcion de PivotSelection la cual nos selecciona el *m* elemento el cual es la mediana de las medianas de 5 subconjuntos.\n",
        "Despues de aplicar el pivot selection dividimos el arreglo en 2, siendo este *m* el elemento de en medio.\n",
        "\n",
        "Si el elemento *i* que queremos buscar es igual a *m* debemos retornar el elemento *m*.\n",
        "\n",
        "Si el elemento *i* es menor a *m* debemos buscar por el subarreglo izquierdo, en cambio si es mayor debemos buscar por el subarreglo derecho.\n",
        "\n"
      ],
      "metadata": {
        "id": "qoiIjXWDiNMe"
      }
    },
    {
      "cell_type": "markdown",
      "source": [
        "## 2.3 Ejemplo"
      ],
      "metadata": {
        "id": "Q0bN84UcecRy"
      }
    },
    {
      "cell_type": "markdown",
      "source": [
        "2.4 Ejecucion del algoritmo (Verbose = True)"
      ],
      "metadata": {
        "id": "onWRUQbbeigg"
      }
    },
    {
      "cell_type": "code",
      "execution_count": null,
      "metadata": {
        "id": "PxlzZte0mpCr"
      },
      "outputs": [],
      "source": []
    }
  ]
}