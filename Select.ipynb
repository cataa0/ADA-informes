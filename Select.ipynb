{
  "nbformat": 4,
  "nbformat_minor": 0,
  "metadata": {
    "colab": {
      "provenance": [],
      "collapsed_sections": [],
      "authorship_tag": "ABX9TyNGH5cbYngxb18M959uxCWC",
      "include_colab_link": true
    },
    "kernelspec": {
      "name": "python3",
      "display_name": "Python 3"
    },
    "language_info": {
      "name": "python"
    }
  },
  "cells": [
    {
      "cell_type": "markdown",
      "metadata": {
        "id": "view-in-github",
        "colab_type": "text"
      },
      "source": [
        "<a href=\"https://colab.research.google.com/github/cataa0/ADA-informes/blob/main/Select.ipynb\" target=\"_parent\"><img src=\"https://colab.research.google.com/assets/colab-badge.svg\" alt=\"Open In Colab\"/></a>"
      ]
    },
    {
      "cell_type": "markdown",
      "source": [
        "# 1.Descripcion del problema"
      ],
      "metadata": {
        "id": "EVonPkZmcEhE"
      }
    },
    {
      "cell_type": "markdown",
      "source": [
        "**Entrada:**Conjunto de *n* numeros diferentes **A** mas un indice *i*.\n",
        "\n",
        "**Salida:**Elemento *x* perteneciente a **A**, que es mayor a *i-1* elementos de **A**.\n",
        "\n",
        "El problema del algoritmo de seleccion se basa en un algoritmo el cual nos permita poder encontrar el k-esimo menor numero de un array (una muestra estadistica)."
      ],
      "metadata": {
        "id": "s-6DsgydcIsM"
      }
    },
    {
      "cell_type": "markdown",
      "source": [
        "# 2.Algoritmo Select"
      ],
      "metadata": {
        "id": "nmO0xOXed_dA"
      }
    },
    {
      "cell_type": "markdown",
      "source": [
        "## 2.1 Codigo Pivot Selection"
      ],
      "metadata": {
        "id": "DraLaPcAeQoS"
      }
    },
    {
      "cell_type": "code",
      "source": [
        "def partition(l, r, nums):\n",
        "  pivot, ptr = num[r], l\n",
        "  for i in range(l, r):\n",
        "    if nums[i]<= pivot:\n",
        "      nums[i], nums[ptr]=nums[ptr], nums[i]\n",
        "      ptr += 1\n",
        "\n",
        "  nums[ptr], nums[r]=nums[r], nums[ptr]\n",
        "  return ptr\n",
        "\n",
        "def insertionSort(arr)\n",
        "  for i in range(1, len(arr)):\n",
        "    key=arr[i]\n",
        "    j=i-1\n",
        "    while j >= 0 and key < arr[j]:\n",
        "      arr[j+1] = arr[j]\n",
        "      j -= 1\n",
        "    arr[j+1] = key  \n",
        "\n",
        "def PivotSelection(arr):\n",
        "    \n",
        "\n",
        "\n",
        "\n",
        "def Select(arr):\n",
        "\n",
        "\n",
        "#Ejemplo\n",
        "\n",
        "arr=[23, 1, 22, 15, 12, 3, 5, 20, 10, 4]\n"
      ],
      "metadata": {
        "id": "H8Tl5R3SiMfW"
      },
      "execution_count": null,
      "outputs": []
    },
    {
      "cell_type": "markdown",
      "source": [
        "## 2.2 Descripcion del algoritmo"
      ],
      "metadata": {
        "id": "0fGN5ZsweWDV"
      }
    },
    {
      "cell_type": "markdown",
      "source": [
        "### 2.2.1 Descripcion de la funcion Pivot Selection"
      ],
      "metadata": {
        "id": "UAZENJmHrvcu"
      }
    },
    {
      "cell_type": "markdown",
      "source": [
        "Recibimos un arreglo de *n* elementos el cual lo dividimos en 5 subarreglos, se debe encontrar la mediana de cada subarreglo aplicando el algoritmo de insertionSort.\n",
        "\n",
        "Se copian todas las medianas en otro subarreglo *y*.\n",
        "\n",
        "Luego se aplica nuevamente la funcion PivotSelection de manera recursiva a este subarreglo +y* para encontrar la mediana de las medianas.\n",
        "\n",
        "Esta mediana seria la cual usaremos como pivote, para luego aplicar el partition en la funcion de Select al arreglo principal."
      ],
      "metadata": {
        "id": "VijTVAvCr6od"
      }
    },
    {
      "cell_type": "markdown",
      "source": [
        "### 2.2.2 Descripcion del algoritmo Select"
      ],
      "metadata": {
        "id": "xWUMxC9VrmxE"
      }
    },
    {
      "cell_type": "markdown",
      "source": [
        "Tenemos un conjunto de *n* elementos al cual se le aplica la funcion de PivotSelection la cual nos selecciona el *m* elemento el cual es la mediana de las medianas de 5 subconjuntos.\n",
        "Despues de aplicar el pivot selection dividimos el arreglo en 2, siendo este *m* el elemento de en medio.\n",
        "\n",
        "Si el elemento *i* que queremos buscar es igual a *m* debemos retornar el elemento *m*.\n",
        "\n",
        "Si el elemento *i* es menor a *m* debemos buscar por el subarreglo izquierdo, en cambio si es mayor debemos buscar por el subarreglo derecho.\n",
        "\n"
      ],
      "metadata": {
        "id": "qoiIjXWDiNMe"
      }
    },
    {
      "cell_type": "markdown",
      "source": [
        "## 2.3 Ejemplo"
      ],
      "metadata": {
        "id": "Q0bN84UcecRy"
      }
    },
    {
      "cell_type": "markdown",
      "source": [
        "Tenemos el siguiente arreglo [23, 1, 22, 15, 12, 3, 5, 20, 10, 4]\n",
        "aplicamos la funcion de pivot selection al arreglo y nos quedarian los siguientes 5 subarreglos\n",
        "\n",
        "arr1=[23, 1]\n",
        "\n",
        "arr2=[22, 15]\n",
        "\n",
        "arr3=[12, 3]\n",
        "\n",
        "arr4=[5, 20]\n",
        "\n",
        "arr5=[10, 4]\n",
        "\n",
        "a estos 5 arreglos le aplicamos el insertionSort con el cual encontramos la mediana de cada subarreglo, y se crea un nuevo arreglo con las 5 medianas.\n",
        "\n",
        "med=[]"
      ],
      "metadata": {
        "id": "Pvny3snjkCZe"
      }
    },
    {
      "cell_type": "markdown",
      "source": [
        "# 2.4 Ejecucion del algoritmo (Verbose = True)"
      ],
      "metadata": {
        "id": "onWRUQbbeigg"
      }
    },
    {
      "cell_type": "code",
      "execution_count": null,
      "metadata": {
        "id": "PxlzZte0mpCr"
      },
      "outputs": [],
      "source": []
    },
    {
      "cell_type": "markdown",
      "source": [
        "# 3. Tiempo de ejecucion"
      ],
      "metadata": {
        "id": "Oro-zCCJU3lm"
      }
    },
    {
      "cell_type": "markdown",
      "source": [],
      "metadata": {
        "id": "vokTC-dcpt0z"
      }
    },
    {
      "cell_type": "markdown",
      "source": [
        "# 4. Corectitud"
      ],
      "metadata": {
        "id": "yDTuPsq1U--i"
      }
    },
    {
      "cell_type": "markdown",
      "source": [],
      "metadata": {
        "id": "GYyAFCNquIl2"
      }
    },
    {
      "cell_type": "markdown",
      "source": [
        "# 5. Experimentacion"
      ],
      "metadata": {
        "id": "zBsoVCQ4VNfK"
      }
    },
    {
      "cell_type": "markdown",
      "source": [
        "## 5.1 Mejor y peor caso teorico"
      ],
      "metadata": {
        "id": "NeoK9SxktTyA"
      }
    },
    {
      "cell_type": "code",
      "source": [
        "import matplotlib.pyplot as plt\n",
        "import datetime\n",
        "from timeit import repeat\n",
        "\n",
        "x=[]; y=[]; z=[]\n",
        "for n in range(1, 500):\n",
        "#El mejor caso seria cuando la mediana de las medianas, es decir el pivote seleccionado es el k-esimo numero buscado\n",
        "  best=[]\n",
        "\n",
        "#El peor caso seria cuando k-esimo elemento esta ubicado en el subarreglo mas largo\n",
        "  worst=[]\n",
        "\n",
        "  t=(setup=\"from __main__ import Select\")\n",
        "  v=(setup=\"from __main__ import Select\")\n",
        "\n",
        "  x.append(n)\n",
        "  y.append(t)\n",
        "  z.append(v)\n",
        "\n",
        "plt.plot(x,y,z)\n",
        "plt.legend([\"Mejor caso\", \"Peor caso\"])\n",
        "plt.xlabel(\"Comparaciones\")\n",
        "plt.show()\n",
        "\n"
      ],
      "metadata": {
        "id": "lQiG5lsJuOkp"
      },
      "execution_count": null,
      "outputs": []
    },
    {
      "cell_type": "markdown",
      "source": [
        "### 5.1.1 Analisis de resultados"
      ],
      "metadata": {
        "id": "JWNJwjYrtrKb"
      }
    },
    {
      "cell_type": "markdown",
      "source": [
        "Podemos ver que las comparaciones en el peor caso son muchisimas mas que en el mejor caso por lo tanto el tiempo de ejecucion es mayor y tendria una complejidad de O(). Por el cntrario en el mejorcaso el numero de comparaciones es de ... lo que hace que tenga un tiempo de ejecucion de ... y el algoritmo sea muchomas rapido y eficiente."
      ],
      "metadata": {
        "id": "jUsW7G4Q1tK5"
      }
    },
    {
      "cell_type": "markdown",
      "source": [
        "## 5.2 Randomize-Select"
      ],
      "metadata": {
        "id": "AvPXoYhGtYZ0"
      }
    },
    {
      "cell_type": "code",
      "source": [
        "def RandomizeSelect(arr):\n",
        "  "
      ],
      "metadata": {
        "id": "YptOLUJMuPM2"
      },
      "execution_count": null,
      "outputs": []
    },
    {
      "cell_type": "markdown",
      "source": [
        "### 5.2.1 Analisis de resultados"
      ],
      "metadata": {
        "id": "0U57PxmVtjCz"
      }
    },
    {
      "cell_type": "markdown",
      "source": [
        "Podemos ver que con el RandomizSelect se elige un pivote al azar en el arreglo por lo tanto no tenemosclaro cual seria el tiempo de ejecucion ya que puede elegir un buen o mal pivote.\n",
        "En el caso de ejemplo pudimos ver que se eligio como pivote el numero ... por lo tanto ahi se aplicó el partition, viendo el tiempo de ejecucionen este caso pudimos ver que es ..."
      ],
      "metadata": {
        "id": "uBv4Z3042PDe"
      }
    }
  ]
}