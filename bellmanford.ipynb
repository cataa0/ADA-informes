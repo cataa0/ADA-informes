{
  "nbformat": 4,
  "nbformat_minor": 0,
  "metadata": {
    "colab": {
      "provenance": [],
      "authorship_tag": "ABX9TyNvDRVZnEEOAwZVEkGAw2p6",
      "include_colab_link": true
    },
    "kernelspec": {
      "name": "python3",
      "display_name": "Python 3"
    },
    "language_info": {
      "name": "python"
    }
  },
  "cells": [
    {
      "cell_type": "markdown",
      "metadata": {
        "id": "view-in-github",
        "colab_type": "text"
      },
      "source": [
        "<a href=\"https://colab.research.google.com/github/cataa0/ADA-informes/blob/main/bellmanford.ipynb\" target=\"_parent\"><img src=\"https://colab.research.google.com/assets/colab-badge.svg\" alt=\"Open In Colab\"/></a>"
      ]
    },
    {
      "cell_type": "markdown",
      "source": [
        "# 1. Descripcion del problema"
      ],
      "metadata": {
        "id": "Lyae2sh5cqXA"
      }
    },
    {
      "cell_type": "markdown",
      "source": [
        "## Problema del camino mas corto"
      ],
      "metadata": {
        "id": "pZdbvtmCcw0v"
      }
    },
    {
      "cell_type": "markdown",
      "source": [
        "El objetivo principal de este problema es poder encontrar el camino mas corto entre un nodo inicial y todos los nodos del grafo $G=(V,E)$.\n",
        "Esto quiere decir que se busca la distancia mas corta entre el nodo inicial y el nodo buscado."
      ],
      "metadata": {
        "id": "UtAS_JnpdvEY"
      }
    },
    {
      "cell_type": "markdown",
      "source": [
        "**Entrada**: Un grafo dirigido $G=(V,E)$, un vértice fuente $s\\in V$, y un valor real $l_e \\geq 0$ asociado a cada arco $e\\in E$.\n",
        "\n",
        "**Salida**: La distancia más corta $dist(s,v)$ para cada vértice $v\\in V$."
      ],
      "metadata": {
        "id": "eOzLINEGesp_"
      }
    },
    {
      "cell_type": "markdown",
      "source": [
        "# 2. Codigo"
      ],
      "metadata": {
        "id": "DXnu4eRjgC-v"
      }
    },
    {
      "cell_type": "code",
      "source": [
        "import random\n",
        "\n",
        "def is_valid_edge(generated_edges: dict, i: int, j: int):\n",
        "    return i != j and not generated_edges.get((i, j), None) and not generated_edges.get((j, i), None)\n",
        "\n",
        "def instance_generator(n: int):\n",
        "    \"\"\"\n",
        "        Input: cantidad de vértices\n",
        "        Output: una lista que contiene todos los arcos y el número del vértice fuente (la función retorna dos variables).\n",
        "        Los arcos vienen en la forma (i, j, weight), donde i es el vértice origen del arco y j el vértice al que apunta el arco, mientras que weight es su peso.\n",
        "    \"\"\"\n",
        "    graph = []\n",
        "    nodes = random.sample(range(0, n), n)\n",
        "    unvisited_nodes = random.sample(range(0, n), n)\n",
        "    \n",
        "    generated_edges = {}\n",
        "    for i in nodes:\n",
        "        rand = random.sample(nodes, random.randint(1, 3))\n",
        "\n",
        "        for j in rand:\n",
        "            edge = (i, j)\n",
        "            edge_with_weight = (i, j, random.randint(1, 100))\n",
        "            \n",
        "            if generated_edges.get((edge[1], edge[0]), None):\n",
        "                continue\n",
        "            \n",
        "            if i == j:\n",
        "                new_vertice = None\n",
        "                iterations = 0\n",
        "                while new_vertice is None and iterations < 250:\n",
        "                    iterations += 1\n",
        "                    number = random.randint(0, n - 1)\n",
        "                    if is_valid_edge(generated_edges, i, number):\n",
        "                        new_vertice = number\n",
        "\n",
        "                if iterations >= 250:\n",
        "                    return instance_generator(n)\n",
        "                \n",
        "                edge = (i, new_vertice)\n",
        "                edge_with_weight = (i, new_vertice, random.randint(-25, 100)) # -25 y 100 corresponde a los límites de los pesos, puede cambiarlos.\n",
        "            \n",
        "            graph.append(edge_with_weight)\n",
        "            generated_edges[edge] = edge\n",
        "\n",
        "            if edge_with_weight[1] in unvisited_nodes:\n",
        "                unvisited_nodes.remove(edge_with_weight[1])\n",
        "\n",
        "    for i in unvisited_nodes:\n",
        "        valid_edge = False\n",
        "        iterations = 0\n",
        "        while not valid_edge and iterations < 250:\n",
        "            iterations += 1\n",
        "            m = random.randint(0, n - 1)\n",
        "            if is_valid_edge(generated_edges, m, i):\n",
        "                valid_edge = True\n",
        "                edge = (m, i)\n",
        "                edge_with_weight = (m, i, random.randint(-25, 100)) # -25 y 100 corresponde a los límites de los pesos, puede cambiarlos.\n",
        "                graph.append(edge_with_weight)\n",
        "                generated_edges[edge] = edge\n",
        "\n",
        "        if iterations >= 250:\n",
        "            return instance_generator(n)\n",
        "\n",
        "    return graph, graph[0][0]"
      ],
      "metadata": {
        "id": "2kv-pNK-jK1n"
      },
      "execution_count": null,
      "outputs": []
    },
    {
      "cell_type": "markdown",
      "source": [
        "## 2.1 Codigo Algoritmo Dijkstra\n",
        "\n",
        "\n",
        "\n"
      ],
      "metadata": {
        "id": "pnBhvwrLjaFX"
      }
    },
    {
      "cell_type": "code",
      "execution_count": null,
      "metadata": {
        "id": "FBeMQpY_cZlJ"
      },
      "outputs": [],
      "source": [
        "from queue import PriorityQueue\n",
        "\n",
        "class Graph:\n",
        "    def __init__(self, num_of_vertices):\n",
        "        self.v = num_of_vertices\n",
        "        self.edges = [[-1 for i in range(num_of_vertices)] for j in range(num_of_vertices)]\n",
        "        self.visited = []\n",
        "    def add_edge(self, u, v, weight):\n",
        "        self.edges[u][v] = weight\n",
        "        self.edges[v][u] = weight\n",
        "def dijkstra(graph, start_vertex):\n",
        "    D = {v:float('inf') for v in range(graph.v)}\n",
        "    D[start_vertex] = 0\n",
        "\n",
        "    pq = PriorityQueue()\n",
        "    pq.put((0, start_vertex))\n",
        "\n",
        "    while not pq.empty():\n",
        "        (dist, current_vertex) = pq.get()\n",
        "        graph.visited.append(current_vertex)\n",
        "\n",
        "        for neighbor in range(graph.v):\n",
        "            if graph.edges[current_vertex][neighbor] != -1:\n",
        "                distance = graph.edges[current_vertex][neighbor]\n",
        "                if neighbor not in graph.visited:\n",
        "                    old_cost = D[neighbor]\n",
        "                    new_cost = D[current_vertex] + distance\n",
        "                    if new_cost < old_cost:\n",
        "                        pq.put((new_cost, neighbor))\n",
        "                        D[neighbor] = new_cost\n",
        "    return D"
      ]
    },
    {
      "cell_type": "markdown",
      "source": [
        "## 2.2 Codigo algoritmo Bellman Ford"
      ],
      "metadata": {
        "id": "JQHS0b0vkpw3"
      }
    },
    {
      "cell_type": "code",
      "source": [
        "    def print_solution(self, dist):\n",
        "        print(\"Vertex Distance from Source\")\n",
        "        for i in range(self.V):\n",
        "            print(\"{0}\\t\\t{1}\".format(i, dist[i]))\n",
        "\n",
        "    def bellman_ford(self, src):\n",
        "\n",
        "        # Step 1: fill the distance array and predecessor array\n",
        "        dist = [float(\"Inf\")] * self.V\n",
        "        # Mark the source vertex\n",
        "        dist[src] = 0\n",
        "\n",
        "        # Step 2: relax edges |V| - 1 times\n",
        "        for _ in range(self.V - 1):\n",
        "            for s, d, w in self.graph:\n",
        "                if dist[s] != float(\"Inf\") and dist[s] + w < dist[d]:\n",
        "                    dist[d] = dist[s] + w\n",
        "\n",
        "        # Step 3: detect negative cycle\n",
        "        # if value changes then we have a negative cycle in the graph\n",
        "        # and we cannot find the shortest distances\n",
        "        for s, d, w in self.graph:\n",
        "            if dist[s] != float(\"Inf\") and dist[s] + w < dist[d]:\n",
        "                print(\"Graph contains negative weight cycle\")\n",
        "                return\n",
        "\n",
        "        # No negative weight cycle found!\n",
        "        # Print the distance and predecessor array\n",
        "        self.print_solution(dist)\n",
        "\n"
      ],
      "metadata": {
        "id": "DaEjG4-eiZjW"
      },
      "execution_count": null,
      "outputs": []
    }
  ]
}