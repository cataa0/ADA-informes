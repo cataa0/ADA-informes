{
  "nbformat": 4,
  "nbformat_minor": 0,
  "metadata": {
    "colab": {
      "name": "ADA-informe-1",
      "provenance": [],
      "authorship_tag": "ABX9TyOLoxo3lqay1VPz6fV0vrBT",
      "include_colab_link": true
    },
    "kernelspec": {
      "name": "python3",
      "display_name": "Python 3"
    },
    "language_info": {
      "name": "python"
    }
  },
  "cells": [
    {
      "cell_type": "markdown",
      "metadata": {
        "id": "view-in-github",
        "colab_type": "text"
      },
      "source": [
        "<a href=\"https://colab.research.google.com/github/cataa0/ADA-informes/blob/main/ADA_informe_1.ipynb\" target=\"_parent\"><img src=\"https://colab.research.google.com/assets/colab-badge.svg\" alt=\"Open In Colab\"/></a>"
      ]
    },
    {
      "cell_type": "markdown",
      "source": [
        "# 1.Descripción del problema"
      ],
      "metadata": {
        "id": "NeaRhLMqyoV2"
      }
    },
    {
      "cell_type": "markdown",
      "source": [
        "**Entrada**: Secuencia de n números $[a_1,a_2,...,a_n]$\n",
        "\n",
        "**Salida**: Permutación ordenada de la secuencia de entrada: $[a_1',a_2',...,a_n']$, de tal manera que $a_1'\\leq a_2' \\leq... \\leq a_n'$."
      ],
      "metadata": {
        "id": "1WKQnzQVy2xv"
      }
    },
    {
      "cell_type": "markdown",
      "source": [
        "# 2.InsertionSort"
      ],
      "metadata": {
        "id": "bpWcEVeM0d3y"
      }
    },
    {
      "cell_type": "markdown",
      "source": [
        "### 2.1Código"
      ],
      "metadata": {
        "id": "tzIEyBOR0hvh"
      }
    },
    {
      "cell_type": "code",
      "execution_count": 1,
      "metadata": {
        "colab": {
          "base_uri": "https://localhost:8080/"
        },
        "id": "qNgO8iqTnpFp",
        "outputId": "f4cfc8ca-f57b-4aa4-8e26-21e9395d17c8"
      },
      "outputs": [
        {
          "output_type": "stream",
          "name": "stdout",
          "text": [
            "Imput: [2, 3, 6, 1, 8]\n",
            "Output: [1, 2, 3, 6, 8]\n"
          ]
        }
      ],
      "source": [
        "def InsertionSort(array, verbose=False):\n",
        "  largo=len(array)\n",
        "  if verbose == True:\n",
        "    print(array)\n",
        "\n",
        "  for i in range(1,largo):\n",
        "    key=array[i]\n",
        "    j=i-1\n",
        "    while j>=0 and array[j]>key:\n",
        "      array[j+1]=arr[j]\n",
        "      j=j-1\n",
        "    array[j+1]=key\n",
        "    if verbose == True:\n",
        "      print(array)\n",
        "  if verbose == True:\n",
        "      print(array)    \n",
        "  return array\n",
        "\n",
        "#Ejemplo\n",
        "arr=[2,3,6,1,8]\n",
        "print(\"Imput:\", arr)\n",
        "arr=InsertionSort(arr)\n",
        "print(\"Output:\", arr)\n"
      ]
    },
    {
      "cell_type": "markdown",
      "source": [
        "### 2.2Descripcion del algoritmo"
      ],
      "metadata": {
        "id": "Zue2B7sa07IT"
      }
    },
    {
      "cell_type": "markdown",
      "source": [
        "El algoritmo recibe como input un arreglo o lista una secuencia de n elementos que queremos ordenar. Luego, el algoritmo ordena los números dentro y va actualizando el mismo arreglo.\n",
        "\n",
        "1. Empezamos recorriendo la lista o arreglo de la primera posicion lo que sería arr[1].\n",
        "2. Vamos comparando i de izquierda de derecha, vamos comparando i con el elemento anterior que en este caso seria j, si j es mayor a i se intercambia la posicion de i por la de j. Si i es mayor a j entonces dejamos i en la misma posisicion que estaba.\n",
        "3. Se van comparando todas las posiciones mientras se va cambiando el arreglo a vez que se compara.\n",
        "4.Finalmente el codigo arroja el arreglo ordenado de mayor a menor."
      ],
      "metadata": {
        "id": "cxU_0Xx4iz1s"
      }
    }
  ]
}