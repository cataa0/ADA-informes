{
  "nbformat": 4,
  "nbformat_minor": 0,
  "metadata": {
    "colab": {
      "name": "ADA-informe-1",
      "provenance": [],
      "authorship_tag": "ABX9TyOlZ/XB9BE6evawHutupuva",
      "include_colab_link": true
    },
    "kernelspec": {
      "name": "python3",
      "display_name": "Python 3"
    },
    "language_info": {
      "name": "python"
    }
  },
  "cells": [
    {
      "cell_type": "markdown",
      "metadata": {
        "id": "view-in-github",
        "colab_type": "text"
      },
      "source": [
        "<a href=\"https://colab.research.google.com/github/cataa0/ADA-informes/blob/main/ADA_informe_1.ipynb\" target=\"_parent\"><img src=\"https://colab.research.google.com/assets/colab-badge.svg\" alt=\"Open In Colab\"/></a>"
      ]
    },
    {
      "cell_type": "markdown",
      "source": [
        "## 1.Descripción del problema"
      ],
      "metadata": {
        "id": "NeaRhLMqyoV2"
      }
    },
    {
      "cell_type": "markdown",
      "source": [
        "**Entrada**: Secuencia de n números $[a_1,a_2,...,a_n]$\n",
        "\n",
        "**Salida**: Permutación ordenada de la secuencia de entrada: $[a_1',a_2',...,a_n']$, de tal manera que $a_1'\\leq a_2' \\leq... \\leq a_n'$."
      ],
      "metadata": {
        "id": "1WKQnzQVy2xv"
      }
    },
    {
      "cell_type": "markdown",
      "source": [
        "## 2.InsertionSort"
      ],
      "metadata": {
        "id": "bpWcEVeM0d3y"
      }
    },
    {
      "cell_type": "markdown",
      "source": [
        "### 2.1Código"
      ],
      "metadata": {
        "id": "tzIEyBOR0hvh"
      }
    },
    {
      "cell_type": "code",
      "execution_count": 45,
      "metadata": {
        "colab": {
          "base_uri": "https://localhost:8080/"
        },
        "id": "qNgO8iqTnpFp",
        "outputId": "875117ab-5cb5-4863-ad87-e70adab215b2"
      },
      "outputs": [
        {
          "output_type": "stream",
          "name": "stdout",
          "text": [
            "Imput: [2, 6, 3, 8, 5]\n",
            "Output: [2, 3, 5, 6, 8]\n",
            "Comparaciones: 3\n"
          ]
        }
      ],
      "source": [
        "from termcolor import colored\n",
        "\n",
        "def InsertionSort(array, verbose=False):\n",
        "  largo=len(array)\n",
        "  cont=0\n",
        "  if verbose == True:\n",
        "    print(\"Input:\", array)\n",
        "\n",
        "  for i in range(1,largo):\n",
        "    key=array[i]\n",
        "    j=i-1\n",
        "    while j>=0 and array[j]>key:\n",
        "      array[j+1]=array[j]\n",
        "      j=j-1\n",
        "      cont+=1\n",
        "    array[j+1]=key\n",
        "    if verbose == True:\n",
        "      print(\"Cambios:\", array)\n",
        "  if verbose == True:\n",
        "      print(\"Output\", array)    \n",
        "  return array, cont\n",
        "\n",
        "#Ejemplo\n",
        "arr=[2,6,3,8,5]\n",
        "print(\"Imput:\", arr)\n",
        "arr, cont=InsertionSort(arr)\n",
        "print(\"Output:\", arr)\n",
        "print(\"Comparaciones:\", cont)\n"
      ]
    },
    {
      "cell_type": "markdown",
      "source": [
        "### 2.2Descripcion del algoritmo"
      ],
      "metadata": {
        "id": "Zue2B7sa07IT"
      }
    },
    {
      "cell_type": "markdown",
      "source": [
        "El algoritmo recibe como input un arreglo o lista una secuencia de n elementos que queremos ordenar. Luego, el algoritmo ordena los números dentro y va actualizando el mismo arreglo.\n",
        "\n",
        "1. Empezamos recorriendo la lista o arreglo de la primera posicion lo que sería arr[1].\n",
        "2. Vamos comparando i de izquierda de derecha. Comparamos i con el elemento anterior que en este caso seria j, si j es mayor a i se intercambia la posicion de i por la de j. Si i es mayor a j entonces dejamos i en la misma posisicion que estaba.\n",
        "3. Se van comparando todas las posiciones mientras se va cambiando el arreglo a vez que se compara.\n",
        "4.Finalmente el codigo arroja el arreglo ordenado de mayor a menor."
      ],
      "metadata": {
        "id": "cxU_0Xx4iz1s"
      }
    },
    {
      "cell_type": "markdown",
      "source": [
        "### 2.3 Ejemplo"
      ],
      "metadata": {
        "id": "MHVh8vZEi5SO"
      }
    },
    {
      "cell_type": "markdown",
      "source": [
        "Consideramos el siguiente arreglo como ejemplo:\n",
        "\n",
        "a=[2, 6, 3, 8, 5]\n",
        "\n",
        "Se compara el 2 con el 6, como el 2 es mejor que el 6 no se hace cambio.\n",
        "\n",
        "Luego se compara el 6 con el 3, como el 3 es menor se intercambia la posicion.\n",
        "\n",
        "a=[2, 3, 6, 8, 5]\n",
        "\n",
        "Despues se vuelve a comparar el 6 pero ahora con el 8, como es menor no se hace intercambio.\n",
        "\n",
        "Luego se compara el 8 con el 5, como el 5 es menor se intercambia con el 8.\n",
        "\n",
        "a=[2, 3, 6, 5, 8]\n",
        "\n",
        "En la ultima vuelta se comparan los numeros hasta llegar al 6 comparado con el 5 en el cual se cambia ya que el 5 es menor.\n",
        "\n",
        "a=[2, 3, 5, 6, 8]\n",
        "\n",
        "Finalmente se hicieron 3 cambios de posiciones.\n"
      ],
      "metadata": {
        "id": "glSBTe9UIVKc"
      }
    },
    {
      "cell_type": "markdown",
      "source": [
        "### 2.4 Ejecucion del algoritmo paso a paso (verbose=True)"
      ],
      "metadata": {
        "id": "VT5Udg5gLwSx"
      }
    },
    {
      "cell_type": "code",
      "source": [
        "import random\n",
        "\n",
        "a = [4, 1, 5, 2]\n",
        "a = InsertionSort(a,verbose=True)"
      ],
      "metadata": {
        "colab": {
          "base_uri": "https://localhost:8080/"
        },
        "id": "n6BPEqjeML2F",
        "outputId": "ac64a7a0-b0e0-4d91-ecb0-b89b239773ff"
      },
      "execution_count": 46,
      "outputs": [
        {
          "output_type": "stream",
          "name": "stdout",
          "text": [
            "Input: [4, 1, 5, 2]\n",
            "Cambios: [1, 4, 5, 2]\n",
            "Cambios: [1, 4, 5, 2]\n",
            "Cambios: [1, 2, 4, 5]\n",
            "Output [1, 2, 4, 5]\n"
          ]
        }
      ]
    },
    {
      "cell_type": "markdown",
      "source": [
        ""
      ],
      "metadata": {
        "id": "Uo-Fy1DCNPcG"
      }
    },
    {
      "cell_type": "markdown",
      "source": [
        "## 3. Tiempo de ejecucion"
      ],
      "metadata": {
        "id": "OZj5KGNPNQMo"
      }
    },
    {
      "cell_type": "markdown",
      "source": [
        "**Teorema (Tiempo de ejecucion)**\n",
        "\n",
        "El algoritmo de InsertionSort en el peor caso tiene complejidad O(n^2)\n",
        "\n",
        "**Prueba del teorema**\n",
        "\n",
        "Se puede apreciar que el peor caso ocurre cuando el arreglo esta ordenado en orden inverso. En este caso, en cada pasada el elemento se movería una casilla a la izquierda, por lo que se necesitaría realizar  n−1  pasadas para que los elementos quedaran ordenados.\n"
      ],
      "metadata": {
        "id": "Ozr-zt5nNX5V"
      }
    },
    {
      "cell_type": "code",
      "source": [
        "a =[2,3,4,1]\n",
        "print(\"Entrada no ordenada:\",a)\n",
        "a,cont=InsertionSort(a,True)\n",
        "print(\"Salida ordenada:\",a)\n",
        "print(\"Total de comparaciones realizadas:\",cont)"
      ],
      "metadata": {
        "colab": {
          "base_uri": "https://localhost:8080/"
        },
        "id": "J5bv_Wt5U9kO",
        "outputId": "d839d831-6702-4fc2-fa79-a84a31ef4bd7"
      },
      "execution_count": 30,
      "outputs": [
        {
          "output_type": "stream",
          "name": "stdout",
          "text": [
            "Entrada no ordenada: [2, 3, 4, 1]\n",
            "[2, 3, 4, 1]\n",
            "[2, 3, 4, 1]\n",
            "[2, 3, 4, 1]\n",
            "[1, 2, 3, 4]\n",
            "[1, 2, 3, 4]\n",
            "Salida ordenada: [1, 2, 3, 4]\n",
            "Total de comparaciones realizadas: 3\n"
          ]
        }
      ]
    },
    {
      "cell_type": "markdown",
      "source": [
        "En este caso, la primera revisión hizo 1 comparación, la segunda 2 y la tercera 3. Por lo tanto, se obtiene un total de 6.\n",
        "\n",
        "En el caso general, se deberían realizar $\\sum\\limits_{i=0}^{n-1} i=\\frac{n(n-1)}{2}$ comparaciones. Por lo que el tiempo de ejecución del algoritmo en el peor caso es $O(n^2)$."
      ],
      "metadata": {
        "id": "BGnwpHIsbjW6"
      }
    },
    {
      "cell_type": "markdown",
      "source": [
        "## 4.Correctitud"
      ],
      "metadata": {
        "id": "cUCskl-tTXC1"
      }
    },
    {
      "cell_type": "markdown",
      "source": [
        "### Teorema (Correctitud).\n",
        "\n",
        "El algoritmo InsertionSort genera un arreglo: $[a_1',a_2',...,a_n']$, con los mismos elementos del arreglo de entrada ordenados de menor a mayor, es decir, $a_1'\\leq a_2' \\leq... \\leq a_n'$.\n",
        "\n",
        "### Prueba del Teorema\n",
        "\n",
        "**Inicialización**\n",
        "\n",
        "Sabemos que i comienza con el valor 1, por lo tanto, lista[0..i-1] corresponde al primer elemento del arreglo original: lista[0], y que se encuentra trivialmente ordenado.\n",
        "\n",
        "**Mantención**\n",
        "\n",
        "Para probar la mantención, debemos observar lo que ocurre durante la i-ésima iteración. Asumimos que antes de comenzar la iteración, el arreglo lista[0..i-1] se encuentra ordenado y contiene los elementos del arreglo original.\n",
        "\n",
        "Durante la iteración, se mueve el nuevo elemento desde la posición i, hasta su posición correcta. Por lo tanto, después de la iteración, el arreglo lista[0..i] también contendrá los elementos del arreglo original.\n",
        "\n",
        "\n",
        "**Correctitud**\n",
        "\n",
        "Finalmente, como la propiedad de bucle invariante es verdadera al incio del bucle y se mantiene en cada iteración, podemos decir que al finalizar la n-ésima iteración del algoritmo, se que genera un arreglo $[a_1',a_2',...,a_n']$, con los mismos elementos del arreglo de entrada ordenados de menor a mayor.\n"
      ],
      "metadata": {
        "id": "U571XtlMTGAo"
      }
    },
    {
      "cell_type": "markdown",
      "source": [
        "## 5. Experimentos"
      ],
      "metadata": {
        "id": "HNmCzzOcXWwR"
      }
    },
    {
      "cell_type": "markdown",
      "source": [
        "### 5.1 Numero de comparaciones"
      ],
      "metadata": {
        "id": "IBN-0fSLXjcF"
      }
    }
  ]
}