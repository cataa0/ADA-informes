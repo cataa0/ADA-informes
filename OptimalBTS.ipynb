{
  "nbformat": 4,
  "nbformat_minor": 0,
  "metadata": {
    "colab": {
      "provenance": [],
      "authorship_tag": "ABX9TyNomhdUMSeBXTnfRAAXbjYw",
      "include_colab_link": true
    },
    "kernelspec": {
      "name": "python3",
      "display_name": "Python 3"
    },
    "language_info": {
      "name": "python"
    }
  },
  "cells": [
    {
      "cell_type": "markdown",
      "metadata": {
        "id": "view-in-github",
        "colab_type": "text"
      },
      "source": [
        "<a href=\"https://colab.research.google.com/github/cataa0/ADA-informes/blob/main/OptimalBTS.ipynb\" target=\"_parent\"><img src=\"https://colab.research.google.com/assets/colab-badge.svg\" alt=\"Open In Colab\"/></a>"
      ]
    },
    {
      "cell_type": "markdown",
      "source": [
        "# 1.Descripcion del problema"
      ],
      "metadata": {
        "id": "ZolezoOkT_zy"
      }
    },
    {
      "cell_type": "markdown",
      "source": [
        "### Problema de optimizacion"
      ],
      "metadata": {
        "id": "BV9TISFdgZ7s"
      }
    },
    {
      "cell_type": "markdown",
      "source": [
        "Los problemas de optimizacion como su nombre lo dice busca optimizar el trabajo y hacer que el problema se haga de una manera mas rapida y precisa. Los problemas de optimizacion busca minimizar o maximizar el valor de una variable con esto podemos llegar al resultado esperado.\n",
        "\n",
        "Entrada: Secuencia ordenada de n claves: $K=\\left<k_1,k_2,...,k_n\\right>$. Cada clave $k_i$ tiene una probabilidad $p_i$ de ser buscada. Existen claves ficticias $d_i$ que representan búsquedas fallidas con $k_{i-1} \\leq d_i \\leq k_i$. Cada clave $d_i$ tiene una probabilidad $q_i$ de ser buscada. La suma de probabilidades debe ser uno, es decir: $\\sum\\limits_{i=1}^n p_i + \\sum\\limits_{j=0}^n q_i = 1$\n",
        "\n",
        "Salida:Construir un árbol de búsqueda óptimo, es decir, un árbol que minimice la cantidad esperada de nodos visitados (costo esperado)."
      ],
      "metadata": {
        "id": "3Y37hyZbgocq"
      }
    },
    {
      "cell_type": "markdown",
      "source": [
        "![image.png](data:image/png;base64,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)"
      ],
      "metadata": {
        "id": "9rQ3VFo_sDLp"
      }
    },
    {
      "cell_type": "markdown",
      "source": [
        "# 2. Descripcion del algoritmo"
      ],
      "metadata": {
        "id": "skPY28Wegl2j"
      }
    },
    {
      "cell_type": "markdown",
      "source": [
        "### Arbol binario de busqueda optimo"
      ],
      "metadata": {
        "id": "Qj82YrkQgdDG"
      }
    },
    {
      "cell_type": "markdown",
      "source": [
        "Consiste en acceder a la raíz del árbol, si el elemento que buscamos coincide con la raiz deñ arbol, se retorna la raiz y ya se da como concluida la busqueda optima; si el elemento buscado es menor buscamos por el subarbol izquierdo y si es mayor buscamos por el subarbol derecho."
      ],
      "metadata": {
        "id": "1vjiys4XkLgS"
      }
    },
    {
      "cell_type": "markdown",
      "source": [
        "### Algoritmo bottom-up"
      ],
      "metadata": {
        "id": "_DbCEST4qMeT"
      }
    },
    {
      "cell_type": "markdown",
      "source": [
        "El metodo bottom-up se basa en una solucion del problema de manera ascendiente, se resuelven partes individuales mas pequeñas para luego ir enlazando los resultados y hacer de manera mas rapida la solucion."
      ],
      "metadata": {
        "id": "n6EPvKdEqUB_"
      }
    },
    {
      "cell_type": "markdown",
      "source": [
        "## 2.1 Codigo"
      ],
      "metadata": {
        "id": "xkRZHCC7jKuS"
      }
    },
    {
      "cell_type": "code",
      "execution_count": null,
      "metadata": {
        "id": "edF-wr3bT6Wf",
        "colab": {
          "base_uri": "https://localhost:8080/"
        },
        "outputId": "0b8e4e92-36af-4b78-8a11-3cb84b59991d"
      },
      "outputs": [
        {
          "output_type": "stream",
          "name": "stdout",
          "text": [
            "Costo optimo: 142\n"
          ]
        }
      ],
      "source": [
        "def optCost(freq, i, j):\n",
        "\n",
        "    if j < i: \n",
        "      return 0    \n",
        "    if j == i:     \n",
        "        return freq[i]\n",
        "    fsum = Sum(freq, i, j)\n",
        "    Min = 999999999999\n",
        "\n",
        "    for r in range(i, j + 1):\n",
        "        cost = (optCost(freq, i, r - 1) +\n",
        "                optCost(freq, r + 1, j))\n",
        "        if cost < Min:\n",
        "            Min = cost\n",
        "\n",
        "    return Min + fsum\n",
        " \n",
        "def optimalSearchTree(keys, freq, n):\n",
        "\n",
        "    return optCost(freq, 0, n - 1)\n",
        "\n",
        "def Sum(freq, i, j):\n",
        "    s = 0\n",
        "    for k in range(i, j + 1):\n",
        "        s += freq[k]\n",
        "    return s\n",
        "\n",
        "keys = [10, 12, 20]\n",
        "freq = [34, 8, 50]\n",
        "n = len(keys)\n",
        "print(\"Costo optimo:\", optimalSearchTree(keys, freq, n))"
      ]
    },
    {
      "cell_type": "code",
      "source": [
        "import random\n",
        "import numpy as np\n",
        "\n",
        "def optimal_bst_instance_generator(n):\n",
        "    keys = sorted(random.sample(range(1, 100), n))\n",
        "    arr = np.random.random(n*2+1)\n",
        "    arr /= arr.sum()\n",
        "    \n",
        "    p = list(arr[:n]) # Probabilidad de las claves\n",
        "    q = arr[n:] # Probabilidad de las claves ficticias\n",
        "    return keys, p, q\n",
        "    \n",
        "keys, p, q = optimal_bst_instance_generator(10)"
      ],
      "metadata": {
        "id": "PuKWUmsDpUz-"
      },
      "execution_count": null,
      "outputs": []
    },
    {
      "cell_type": "markdown",
      "source": [
        "## 2.2 Ejemplo"
      ],
      "metadata": {
        "id": "VYKz9ZWJNL59"
      }
    },
    {
      "cell_type": "markdown",
      "source": [
        "Tenemos una secuencia de 3 claves *K=[10, 12, 20]* cuya frecuencia es *freq=[34, 8, 50]*"
      ],
      "metadata": {
        "id": "GNucybqIQE5g"
      }
    },
    {
      "cell_type": "markdown",
      "source": [
        "## 2.3 Verbose == True"
      ],
      "metadata": {
        "id": "KzSO2Qu-NSRe"
      }
    },
    {
      "cell_type": "markdown",
      "source": [
        "# 3. Tiempo de ejecucion"
      ],
      "metadata": {
        "id": "2xRYD2Nhl3gZ"
      }
    },
    {
      "cell_type": "markdown",
      "source": [
        "\n",
        "\n",
        "```\n",
        "#Algoritmo OBSTR (Main)\n",
        "#   Sort A[1..n] and F[1..n] by the keys\n",
        "#   return findOptimalCost(A, F, 1, n)\n",
        "\n",
        "#Algoritmo OBSTR(A, F, lef t, right)\n",
        "\n",
        "# best = +∞\n",
        "# for i = lef t to right . try each as the root\n",
        "#   costlef t = findOptimalCost(A, F, lef t, i − 1)\n",
        "#   costright = findOptimalCost(A, F, i + 1, right)\n",
        "#   costtotal = costlef t + costright + sumatoria de F[v], donde v toma valor de left a right\n",
        "#   if costtotal < costbest\n",
        "#     best = costtotal\n",
        "# return best\n",
        "\n",
        "```\n",
        "\n",
        "Por ende el tiempo de ejecución es  2^O(n) .\n",
        "\n",
        "### 3.1 Programacion dinamica\n",
        "\n",
        "\n",
        "\n",
        "```\n",
        "#Algoritmo OBSTDP\n",
        "\n",
        "# for size in 1 .. n loop             Todos los tamaños de secuencias\n",
        "#   for i in 1 .. n-size+1 loop       Todos los puntos de partida de las secuencias.\n",
        "#     j := i + size - 1\n",
        "#     e(i, j) := float'max;\n",
        "#     for r in i .. j loop        -- Todas las raíces de la secuencia ki .. kj\n",
        "#       t := e(i, r-1) + e(r+1, j) + w(i, j)\n",
        "#       if t < e(i, j)  then\n",
        "#         e(i, j) := t\n",
        "#         root(i, j) := r\n",
        "#       end if\n",
        "#     end loop\n",
        "#   end loop\n",
        "# end loop\n",
        "```\n",
        "\n",
        "Por ende el tiempo de ejecución es  O(n^3) .\n",
        "\n"
      ],
      "metadata": {
        "id": "mITHkMLQnFOy"
      }
    },
    {
      "cell_type": "markdown",
      "source": [
        "# 4.Correctitud"
      ],
      "metadata": {
        "id": "N0DNLW2El-jr"
      }
    },
    {
      "cell_type": "markdown",
      "source": [
        "Supongamos que se nos da una lista de claves $k1 < k2 < . . . < k_n$, y una lista de probabilidades $p_i$ que cada llave sea buscada. Un árbol de búsqueda binario óptimo es un $BST T$ que minimiza la búsqueda esperada tiempo.\n",
        "\n",
        "$\\sum\\limits_{i=1}^n p_i(depth_T(k_i)+1)$\n",
        "\n",
        "donde la profundidad de la raíz es 0. Supondremos que las claves son los números $1, 2, . . . , n$. Mediante el uso programación dinámica, sin embargo, podemos resolver el problema de manera eficiente.\n",
        "\n",
        "Primero calcular el valor numérico del tiempo de búsqueda esperado para un BST óptimo, y luego consideraremos cómo modificar nuestra solución para encontrar el BST correspondiente. Sea $1 ≤ i ≤ j ≤ n$, y sea $T$ cualquier $BST$ en $i, . . . , J$. Definiremos el costo de $T$:\n",
        "\n",
        "$C(T)$ $=$ $\\sum\\limits_{l=i}^j p_l(depth_T(l)+1)$\n",
        "\n",
        "y los subproblemas:\n",
        "\n",
        "$C_{ij}$ $=$ $min_{T on i,...,j}$$C(T)$\n",
        "\n",
        "\n",
        "El tiempo de búsqueda esperado para el $BST$ óptimo es $C_{1n}$.\n",
        "\n",
        "El costo de $T$ es: \n",
        "\n",
        "$C(T_L)$ $+$ $C(T_R)$ $+$ $\\sum\\limits_{l=i}^j p_l$\n",
        "\n",
        "Y así definimos la recurrencia $C'_{ij}$:\n",
        "\n",
        "$C'_{ij}$ =  \\begin{cases}\n",
        "    min_{i \\leq k \\leq j}\\{C'_{i, k-1} + C'_{k+1, j}\\}+\\sum\\limits_{l=i}^{j} p_l, & \\text{if $i < j$}.\\\\\n",
        "    p_i, & \\text{if $i = j$}.\\\\\n",
        "    0, & \\text{if $i > j$}\n",
        "  \\end{cases}\n",
        "\n",
        "Se pretende que: $C'_{ij}$ =$C_{ij}$\n",
        "\n",
        "La demostración se hace por inducción en $j − i$, el caso base es trivial.\n",
        "\n",
        "$C'_{ij}$ $>=$ $C_{ij}$, según el cálculo anterior $C'_{ij}$ es el costo de algunos BST en $i,....,j$ y $C_{ij}$ es el costo de un BST óptimo.\n",
        "\n",
        "$C'_{ij}$ $<=$ $C_{ij}$, supongamos que la raíz de la BST óptima es $k$. \n",
        "\n",
        "Entonces:\n",
        "\n",
        "$C_{ij}$ = $C_{i, k-1}$ $+$ $C_{k+1, j}$ $+$ $\\sum\\limits_{l=i}^{j} p_l$\n",
        "\n",
        "$>=$ $C'_{i, k-1}$ $+$ $C'_{k+1, j}$ + $\\sum\\limits_{l=i}^{j} p_l$\n",
        "\n",
        "\n",
        "$>=$ $min_{i \\leq k \\leq j}\\{C'_{i, k-1} + C'_{k+1, j}\\}$$+$$\\sum\\limits_{l=i}^{j} p_l$\n",
        "\n",
        "$=$ $C'_{ij}"
      ],
      "metadata": {
        "id": "lh8SMRM6mXsw"
      }
    },
    {
      "cell_type": "markdown",
      "source": [
        "# 5. Experimentacion"
      ],
      "metadata": {
        "id": "MglBIeKnoFNJ"
      }
    }
  ]
}