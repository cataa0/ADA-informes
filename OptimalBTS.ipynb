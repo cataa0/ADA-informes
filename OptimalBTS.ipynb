{
  "nbformat": 4,
  "nbformat_minor": 0,
  "metadata": {
    "colab": {
      "provenance": [],
      "authorship_tag": "ABX9TyMjVYW9bEx8kA461isu2zNh",
      "include_colab_link": true
    },
    "kernelspec": {
      "name": "python3",
      "display_name": "Python 3"
    },
    "language_info": {
      "name": "python"
    }
  },
  "cells": [
    {
      "cell_type": "markdown",
      "metadata": {
        "id": "view-in-github",
        "colab_type": "text"
      },
      "source": [
        "<a href=\"https://colab.research.google.com/github/cataa0/ADA-informes/blob/main/OptimalBTS.ipynb\" target=\"_parent\"><img src=\"https://colab.research.google.com/assets/colab-badge.svg\" alt=\"Open In Colab\"/></a>"
      ]
    },
    {
      "cell_type": "markdown",
      "source": [
        "# 1.Descripcion del problema"
      ],
      "metadata": {
        "id": "ZolezoOkT_zy"
      }
    },
    {
      "cell_type": "markdown",
      "source": [
        "### Problema de optimizacion"
      ],
      "metadata": {
        "id": "BV9TISFdgZ7s"
      }
    },
    {
      "cell_type": "markdown",
      "source": [
        "Los problemas de optimizacion como su nombre lo dice busca optimizar el trabajo y hacer que el problema se haga de una manera mas rapida y precisa. Los problemas de optimizacion busca minimizar o maximizar el valor de una variable con esto podemos llegar al resultado esperado.\n",
        "\n",
        "Entrada: Secuencia ordenada de n claves: $K=\\left<k_1,k_2,...,k_n\\right>$. Cada clave $k_i$ tiene una probabilidad $p_i$ de ser buscada. Existen claves ficticias $d_i$ que representan búsquedas fallidas con $k_{i-1} \\leq d_i \\leq k_i$. Cada clave $d_i$ tiene una probabilidad $q_i$ de ser buscada. La suma de probabilidades debe ser uno, es decir: $\\sum\\limits_{i=1}^n p_i + \\sum\\limits_{j=0}^n q_i = 1$\n",
        "\n",
        "Salida:Construir un árbol de búsqueda óptimo, es decir, un árbol que minimice la cantidad esperada de nodos visitados (costo esperado)."
      ],
      "metadata": {
        "id": "3Y37hyZbgocq"
      }
    },
    {
      "cell_type": "markdown",
      "source": [
        "# 2. Descripcion del algoritmo"
      ],
      "metadata": {
        "id": "skPY28Wegl2j"
      }
    },
    {
      "cell_type": "markdown",
      "source": [
        "Arbol binario de busqueda optimo"
      ],
      "metadata": {
        "id": "Qj82YrkQgdDG"
      }
    },
    {
      "cell_type": "markdown",
      "source": [
        "Consiste en acceder a la raíz del árbol, si el elemento que buscamos coincide con la raiz deñ arbol, se retorna la raiz y ya se da como concluida la busqueda optima; si el elemento buscado es menor buscamos por el subarbol izquierdo y si es mayor buscamos por el subarbol derecho."
      ],
      "metadata": {
        "id": "1vjiys4XkLgS"
      }
    },
    {
      "cell_type": "markdown",
      "source": [
        "## 2.1 Codigo"
      ],
      "metadata": {
        "id": "xkRZHCC7jKuS"
      }
    },
    {
      "cell_type": "code",
      "execution_count": 1,
      "metadata": {
        "id": "edF-wr3bT6Wf",
        "colab": {
          "base_uri": "https://localhost:8080/"
        },
        "outputId": "0b8e4e92-36af-4b78-8a11-3cb84b59991d"
      },
      "outputs": [
        {
          "output_type": "stream",
          "name": "stdout",
          "text": [
            "Costo optimo: 142\n"
          ]
        }
      ],
      "source": [
        "def optCost(freq, i, j):\n",
        "\n",
        "    if j < i: \n",
        "      return 0    \n",
        "    if j == i:     \n",
        "        return freq[i]\n",
        "    fsum = Sum(freq, i, j)\n",
        "    Min = 999999999999\n",
        "\n",
        "    for r in range(i, j + 1):\n",
        "        cost = (optCost(freq, i, r - 1) +\n",
        "                optCost(freq, r + 1, j))\n",
        "        if cost < Min:\n",
        "            Min = cost\n",
        "\n",
        "    return Min + fsum\n",
        " \n",
        "def optimalSearchTree(keys, freq, n):\n",
        "\n",
        "    return optCost(freq, 0, n - 1)\n",
        "\n",
        "def Sum(freq, i, j):\n",
        "    s = 0\n",
        "    for k in range(i, j + 1):\n",
        "        s += freq[k]\n",
        "    return s\n",
        "\n",
        "keys = [10, 12, 20]\n",
        "freq = [34, 8, 50]\n",
        "n = len(keys)\n",
        "print(\"Costo optimo:\", optimalSearchTree(keys, freq, n))"
      ]
    }
  ]
}